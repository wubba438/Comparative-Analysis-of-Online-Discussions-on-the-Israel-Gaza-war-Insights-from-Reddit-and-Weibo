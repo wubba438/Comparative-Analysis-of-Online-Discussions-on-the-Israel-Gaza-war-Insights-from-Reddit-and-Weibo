{
 "cells": [
  {
   "cell_type": "markdown",
   "metadata": {},
   "source": [
    "## Data loading(Ignore)"
   ]
  },
  {
   "cell_type": "code",
   "execution_count": 28,
   "metadata": {},
   "outputs": [],
   "source": [
    "import pandas as pd\n",
    "from collections import Counter\n",
    "from snownlp import SnowNLP, sentiment\n",
    "import matplotlib.pyplot as plt\n",
    "import jieba\n",
    "import json\n",
    "import os\n",
    "\n"
   ]
  },
  {
   "cell_type": "code",
   "execution_count": 3,
   "metadata": {},
   "outputs": [],
   "source": [
    "# Load the CSV file into a DataFrame\n",
    "df1 = pd.read_csv(\"weibo_107_1022.csv\")\n",
    "df2 = pd.read_csv(\"weibo_1023_117.csv\")"
   ]
  },
  {
   "cell_type": "code",
   "execution_count": 6,
   "metadata": {},
   "outputs": [],
   "source": [
    "# df1 select timezone\n",
    "df1['发布时间'] = pd.to_datetime(df1['发布时间'])\n",
    "\n",
    "start_date = \"2023-10-07\"\n",
    "end_date = \"2023-10-23\"\n",
    "\n",
    "filtered_df1 = df1[(df1['发布时间'] >= start_date) & (df1['发布时间'] <= end_date)]\n",
    "\n",
    "\n",
    "# df2 select time zone\n",
    "df2['发布时间'] = pd.to_datetime(df2['发布时间'])\n",
    "\n",
    "start_date = \"2023-10-22\"\n",
    "end_date = \"2023-11-8\"\n",
    "\n",
    "filtered_df2 = df2[(df2['发布时间'] >= start_date) & (df2['发布时间'] <= end_date)]\n"
   ]
  },
  {
   "cell_type": "code",
   "execution_count": 7,
   "metadata": {},
   "outputs": [
    {
     "name": "stdout",
     "output_type": "stream",
     "text": [
      "          date  weibo_count\n",
      "0   2023-10-07         1426\n",
      "1   2023-10-08          757\n",
      "2   2023-10-09          445\n",
      "3   2023-10-10          373\n",
      "4   2023-10-11          335\n",
      "5   2023-10-12          315\n",
      "6   2023-10-13          375\n",
      "7   2023-10-14           20\n",
      "8   2023-10-15          304\n",
      "9   2023-10-16         2333\n",
      "10  2023-10-17          212\n",
      "11  2023-10-18          520\n",
      "12  2023-10-19          105\n",
      "13  2023-10-20           62\n",
      "14  2023-10-21         2203\n",
      "15  2023-10-22          575\n",
      "16  2023-10-23            2\n"
     ]
    },
    {
     "name": "stderr",
     "output_type": "stream",
     "text": [
      "/var/folders/n2/l02636fd7q11j3gyvhqqs5v80000gn/T/ipykernel_71002/411688206.py:2: SettingWithCopyWarning: \n",
      "A value is trying to be set on a copy of a slice from a DataFrame.\n",
      "Try using .loc[row_indexer,col_indexer] = value instead\n",
      "\n",
      "See the caveats in the documentation: https://pandas.pydata.org/pandas-docs/stable/user_guide/indexing.html#returning-a-view-versus-a-copy\n",
      "  filtered_df1['date'] = filtered_df1['发布时间'].dt.date\n"
     ]
    }
   ],
   "source": [
    "# check dataset by date\n",
    "filtered_df1['date'] = filtered_df1['发布时间'].dt.date\n",
    "\n",
    "daily_counts = filtered_df1.groupby('date').size().reset_index(name='weibo_count')\n",
    "\n",
    "print(daily_counts)"
   ]
  },
  {
   "cell_type": "code",
   "execution_count": 8,
   "metadata": {},
   "outputs": [
    {
     "name": "stdout",
     "output_type": "stream",
     "text": [
      "          date  weibo_count\n",
      "0   2023-10-07         1426\n",
      "1   2023-10-08          757\n",
      "2   2023-10-09          445\n",
      "3   2023-10-10          373\n",
      "4   2023-10-11          335\n",
      "5   2023-10-12          315\n",
      "6   2023-10-13          375\n",
      "7   2023-10-14           20\n",
      "8   2023-10-15          304\n",
      "9   2023-10-16         2333\n",
      "10  2023-10-17          212\n",
      "11  2023-10-18          520\n",
      "12  2023-10-19          105\n",
      "13  2023-10-20           62\n",
      "14  2023-10-21         2203\n",
      "15  2023-10-22          575\n"
     ]
    }
   ],
   "source": [
    "# remove 2023-10-23\n",
    "filtered_df1 = filtered_df1[filtered_df1['发布时间'].dt.date != pd.to_datetime('2023-10-23').date()]\n",
    "\n",
    "daily_counts = filtered_df1.groupby('date').size().reset_index(name='weibo_count')\n",
    "\n",
    "print(daily_counts)"
   ]
  },
  {
   "cell_type": "code",
   "execution_count": 9,
   "metadata": {},
   "outputs": [
    {
     "name": "stdout",
     "output_type": "stream",
     "text": [
      "          date  weibo counts\n",
      "0   2023-10-23          2984\n",
      "1   2023-10-24          2399\n",
      "2   2023-10-25           702\n",
      "3   2023-10-26           118\n",
      "4   2023-10-27            86\n",
      "5   2023-10-28           188\n",
      "6   2023-10-29           129\n",
      "7   2023-10-30            94\n",
      "8   2023-10-31           101\n",
      "9   2023-11-01           107\n",
      "10  2023-11-02           142\n",
      "11  2023-11-03           121\n",
      "12  2023-11-04           102\n",
      "13  2023-11-05           100\n",
      "14  2023-11-06            64\n",
      "15  2023-11-07            85\n"
     ]
    },
    {
     "name": "stderr",
     "output_type": "stream",
     "text": [
      "/var/folders/n2/l02636fd7q11j3gyvhqqs5v80000gn/T/ipykernel_71002/2981379858.py:1: SettingWithCopyWarning: \n",
      "A value is trying to be set on a copy of a slice from a DataFrame.\n",
      "Try using .loc[row_indexer,col_indexer] = value instead\n",
      "\n",
      "See the caveats in the documentation: https://pandas.pydata.org/pandas-docs/stable/user_guide/indexing.html#returning-a-view-versus-a-copy\n",
      "  filtered_df2['date'] = filtered_df2['发布时间'].dt.date\n"
     ]
    }
   ],
   "source": [
    "filtered_df2['date'] = filtered_df2['发布时间'].dt.date\n",
    "\n",
    "daily_counts = filtered_df2.groupby('date').size().reset_index(name='weibo counts')\n",
    "\n",
    "print(daily_counts)"
   ]
  },
  {
   "cell_type": "code",
   "execution_count": null,
   "metadata": {},
   "outputs": [],
   "source": [
    "# merge df1 and df2\n",
    "merged_df = pd.concat([filtered_df1, filtered_df2], ignore_index=True)\n",
    "\n",
    "merged_df.head()"
   ]
  },
  {
   "cell_type": "code",
   "execution_count": null,
   "metadata": {},
   "outputs": [],
   "source": [
    "# setup dataframe\n",
    "\n",
    "weibo_data = pd.DataFrame(index=merged_df.index)\n",
    "weibo_data[\"id\"] = merged_df[\"id\"]\n",
    "weibo_data[\"content\"] = merged_df[\"微博正文\"]\n",
    "weibo_data[\"topic\"] = merged_df[\"话题\"]\n",
    "weibo_data[\"retweet\"] = merged_df[\"转发数\"]\n",
    "weibo_data[\"comments\"] = merged_df[\"评论数\"]\n",
    "weibo_data[\"likes\"] = merged_df[\"点赞数\"]\n",
    "weibo_data[\"ip\"] = merged_df[\"ip\"]\n",
    "weibo_data['date'] = merged_df['发布时间'].dt.date\n",
    "weibo_data['user_authentication'] = merged_df['user_authentication']\n",
    "\n",
    "weibo_data.to_csv('weibo_reddit_dataset/weibo_datset_cn')"
   ]
  },
  {
   "cell_type": "markdown",
   "metadata": {},
   "source": [
    "# Start from here : Data Cleaning and basic Data description"
   ]
  },
  {
   "cell_type": "code",
   "execution_count": 34,
   "metadata": {},
   "outputs": [
    {
     "data": {
      "image/png": "[encoded data removed]",
      "text/plain": [
       "<Figure size 1200x600 with 1 Axes>"
      ]
     },
     "metadata": {},
     "output_type": "display_data"
    }
   ],
   "source": [
    "weibo_data = pd.read_csv('weibo_reddit_dataset/weibo_datset_cn')\n",
    "\n",
    "# line plot of the number of comments day by day\n",
    "\n",
    "daily_comments = weibo_data.groupby('date').size()\n",
    "\n",
    "plt.figure(figsize=(12, 6))\n",
    "plt.plot(daily_comments.index, daily_comments.values, marker='o', linestyle='-', color='b')\n",
    "plt.xlabel('Date')\n",
    "plt.title('Number of Comments Per Day')\n",
    "plt.grid(True)\n",
    "plt.show()"
   ]
  },
  {
   "cell_type": "code",
   "execution_count": 17,
   "metadata": {},
   "outputs": [
    {
     "name": "stderr",
     "output_type": "stream",
     "text": [
      "Building prefix dict from the default dictionary ...\n",
      "Loading model from cache /var/folders/n2/l02636fd7q11j3gyvhqqs5v80000gn/T/jieba.cache\n",
      "Loading model cost 0.362 seconds.\n",
      "Prefix dict has been built successfully.\n"
     ]
    }
   ],
   "source": [
    "# content preprocessing\n",
    "\n",
    "def load_stopwords(file_path):\n",
    "    with open(file_path, 'r', encoding='utf-8') as file:\n",
    "        return set(line.strip() for line in file)\n",
    "\n",
    "\n",
    "stopwords = load_stopwords('cn_stopwords.txt')\n",
    "\n",
    "def preprocess(text):\n",
    "    \n",
    "    text = text.replace(\"##\", \"\")\n",
    "\n",
    "    tokens = jieba.cut(text)\n",
    "    \n",
    "    tokens = [word for word in tokens if word not in stopwords and len(word) > 1]\n",
    "    \n",
    "    return tokens\n",
    "\n",
    "weibo_data['tokens'] = weibo_data['content'].apply(preprocess)\n",
    "weibo_data['clean_text'] = weibo_data['tokens'].apply(lambda x: ' '.join(x))\n"
   ]
  },
  {
   "cell_type": "code",
   "execution_count": 18,
   "metadata": {},
   "outputs": [],
   "source": [
    "# optinal\n",
    "# replace 'palestines' with 'palestine'\n",
    "def normalize_text(text):\n",
    "    text = text.replace('巴勒斯坦人', '巴勒斯坦')\n",
    "    return text\n",
    "\n",
    "def tokenize(text):\n",
    "\n",
    "    tokens = jieba.cut(text)\n",
    "    \n",
    "    return tokens\n",
    "\n",
    "weibo_data['normalized_content'] = weibo_data['clean_text'].apply(normalize_text)\n",
    "weibo_data['nom_tokens'] = weibo_data['normalized_content'].apply(tokenize)"
   ]
  },
  {
   "cell_type": "markdown",
   "metadata": {},
   "source": [
    "## Filter Data Based on Specific Topics"
   ]
  },
  {
   "cell_type": "code",
   "execution_count": null,
   "metadata": {},
   "outputs": [],
   "source": [
    "# generate related topics\n",
    "'''\n",
    "weibo_data['topic'] = weibo_data['topic'].apply(\n",
    "    lambda x: x.split(',') if isinstance(x, str) else []\n",
    ")\n",
    "# Flatten the list of lists to get all unique topics\n",
    "all_topics = set([topic for sublist in weibo_data['topic'] for topic in sublist])\n",
    "\n",
    "print(\"Unique topics found:\")\n",
    "print(all_topics)\n",
    "'''"
   ]
  },
  {
   "cell_type": "code",
   "execution_count": 21,
   "metadata": {},
   "outputs": [],
   "source": [
    "# Filter Data Based on Specific Topics\n",
    "\n",
    "with open('specific_topics.json', 'r', encoding='utf-8') as f:\n",
    "    loaded_specific_topics = json.load(f)\n",
    "\n",
    "# Filter the DataFrame to include only rows where the specific topic is mentioned\n",
    "weibo_data['topic'] = weibo_data['topic'].apply(\n",
    "    lambda x: x.split(',') if isinstance(x, str) else []\n",
    ")\n",
    "topic_filtered_df = weibo_data[weibo_data['topic'].apply(lambda topic_list: any(topic in topic_list for topic in loaded_specific_topics))]"
   ]
  },
  {
   "cell_type": "markdown",
   "metadata": {},
   "source": [
    "## Sample 300 training dataset"
   ]
  },
  {
   "cell_type": "code",
   "execution_count": 22,
   "metadata": {},
   "outputs": [],
   "source": [
    "# Select only the 'content' column\n",
    "df_content = topic_filtered_df[['content']]\n",
    "\n",
    "# Sample 300 entries from the 'content' column\n",
    "sampled_content_df = df_content.sample(n=300, random_state=42)\n",
    "sampled_content_df.reset_index(drop=True, inplace=True)\n",
    "\n",
    "# save this sample to a new CSV file\n",
    "# sampled_content_df.to_csv('sampled_content.csv', index=False)\n",
    "\n",
    "# save this sample to a new excel file\n",
    "#sampled_content_df.to_excel('sentiment_statistics.xlsx', index=False)"
   ]
  },
  {
   "cell_type": "code",
   "execution_count": 25,
   "metadata": {},
   "outputs": [],
   "source": [
    "'''\n",
    "# load the training dataset\n",
    "\n",
    "train_data = pd.read_excel('/Users/zhouyanqing/Desktop/train_sentiment.xlsx') \n",
    "\n",
    "# Prepare negative and positive samples\n",
    "df_content = train_data[['content', 'emotion']]\n",
    "neg_content = df_content[df_content['emotion'] == -1]['content']\n",
    "pos_content = df_content[df_content['emotion'] == 1]['content']\n",
    "\n",
    "# Save negative samples to neg.txt\n",
    "with open('neg.txt', 'w', encoding='utf-8') as f:\n",
    "    for text in neg_content:\n",
    "        f.write(f\"{text}\\n\")\n",
    "\n",
    "# Save positive samples to pos.txt\n",
    "with open('pos.txt', 'w', encoding='utf-8') as f:\n",
    "    for text in pos_content:\n",
    "        f.write(f\"{text}\\n\")\n",
    "'''\n",
    "\n",
    "# Train the sentiment analysis model\n",
    "sentiment.train('neg.txt', 'pos.txt')\n",
    "\n",
    "# Save the trained model\n",
    "sentiment.save('sentiment.marshal')\n"
   ]
  },
  {
   "cell_type": "markdown",
   "metadata": {},
   "source": [
    "## Word frequency"
   ]
  },
  {
   "cell_type": "code",
   "execution_count": 27,
   "metadata": {},
   "outputs": [
    {
     "name": "stdout",
     "output_type": "stream",
     "text": [
      "    word  frequency  relative_frequency\n",
      "36   以色列      16237            0.035334\n",
      "4     冲突      13191            0.028705\n",
      "90    加沙       8702            0.018937\n",
      "8     巴以       7399            0.016101\n",
      "0   巴勒斯坦       6166            0.013418\n",
      "35    视频       5506            0.011982\n",
      "34    微博       4647            0.010112\n",
      "91    地带       4417            0.009612\n",
      "46   哈马斯       4280            0.009314\n",
      "39    死亡       4079            0.008876\n"
     ]
    }
   ],
   "source": [
    "# Flatten the list of tokens into a single list\n",
    "all_tokens = [token for sublist in topic_filtered_df['tokens'] for token in sublist]\n",
    "\n",
    "# Calculate word frequencies using Counter\n",
    "word_freq = Counter(all_tokens)\n",
    "\n",
    "# Calculate the total number of tokens\n",
    "total_tokens = sum(word_freq.values())\n",
    "\n",
    "# Convert the word frequency dictionary into a DataFrame\n",
    "word_freq_df = pd.DataFrame(word_freq.items(), columns=['word', 'frequency'])\n",
    "\n",
    "# Calculate the relative frequency and add it to the DataFrame\n",
    "word_freq_df['relative_frequency'] = word_freq_df['frequency'] / total_tokens\n",
    "\n",
    "# Sort by frequency (optional)\n",
    "word_freq_df = word_freq_df.sort_values(by='frequency', ascending=False)\n",
    "\n",
    "# Export to CSV\n",
    "word_freq_df.to_csv('results/cn_weibo_word_frequency_0.csv', index=False)\n",
    "\n",
    "# Display the top 10 words with their frequencies and relative frequencies (optional)\n",
    "print(word_freq_df.head(10))"
   ]
  },
  {
   "cell_type": "markdown",
   "metadata": {},
   "source": [
    "# Sentiment analysis with the custom-trained model"
   ]
  },
  {
   "cell_type": "code",
   "execution_count": 29,
   "metadata": {},
   "outputs": [
    {
     "name": "stderr",
     "output_type": "stream",
     "text": [
      "/var/folders/n2/l02636fd7q11j3gyvhqqs5v80000gn/T/ipykernel_71002/3483487802.py:8: SettingWithCopyWarning: \n",
      "A value is trying to be set on a copy of a slice from a DataFrame.\n",
      "Try using .loc[row_indexer,col_indexer] = value instead\n",
      "\n",
      "See the caveats in the documentation: https://pandas.pydata.org/pandas-docs/stable/user_guide/indexing.html#returning-a-view-versus-a-copy\n",
      "  topic_filtered_df['sentiment_score'] = topic_filtered_df['clean_text'].apply(analyze_sentiment)\n"
     ]
    }
   ],
   "source": [
    "data_path = 'sentiment.marshal.3'\n",
    "\n",
    "# Define sentiment analysis function\n",
    "def analyze_sentiment(text):\n",
    "    s = SnowNLP(text)\n",
    "    return s.sentiments\n",
    "\n",
    "topic_filtered_df['sentiment_score'] = topic_filtered_df['clean_text'].apply(analyze_sentiment)"
   ]
  },
  {
   "cell_type": "code",
   "execution_count": 30,
   "metadata": {},
   "outputs": [
    {
     "name": "stdout",
     "output_type": "stream",
     "text": [
      "  sentiment  tweet count\n",
      "0  Negative         5590\n",
      "1   Neutral         1886\n",
      "2  Positive         2110\n"
     ]
    },
    {
     "name": "stderr",
     "output_type": "stream",
     "text": [
      "/var/folders/n2/l02636fd7q11j3gyvhqqs5v80000gn/T/ipykernel_71002/3567294138.py:12: SettingWithCopyWarning: \n",
      "A value is trying to be set on a copy of a slice from a DataFrame.\n",
      "Try using .loc[row_indexer,col_indexer] = value instead\n",
      "\n",
      "See the caveats in the documentation: https://pandas.pydata.org/pandas-docs/stable/user_guide/indexing.html#returning-a-view-versus-a-copy\n",
      "  topic_filtered_df['sentiment'] = topic_filtered_df['sentiment_score'].apply(classify_sentiment)\n"
     ]
    }
   ],
   "source": [
    "# SnowNLP sentiment score is in the range of 0 to 1，with 1 signifying positive emotion， and 0 signifying negative emotion\n",
    "\n",
    "def classify_sentiment(score):\n",
    "    if score > 0.75:\n",
    "        return \"Positive\"\n",
    "    elif score < 0.25:\n",
    "        return \"Negative\"\n",
    "    else:\n",
    "        return \"Neutral\"\n",
    "\n",
    "topic_filtered_df['sentiment'] = topic_filtered_df['sentiment_score'].apply(classify_sentiment)\n",
    "\n",
    "sentiment_counts = topic_filtered_df.groupby('sentiment').size().reset_index(name='tweet count')\n",
    "sentiment_counts.to_csv('results/weibo_cn_sentiment_counts.csv', index = False)\n",
    "print(sentiment_counts)"
   ]
  },
  {
   "cell_type": "code",
   "execution_count": 31,
   "metadata": {},
   "outputs": [
    {
     "name": "stdout",
     "output_type": "stream",
     "text": [
      "0.32606692410304233\n",
      "0.12305077684360011\n"
     ]
    }
   ],
   "source": [
    "print(topic_filtered_df['sentiment_score'].mean())\n",
    "print(topic_filtered_df['sentiment_score'].median())"
   ]
  }
 ],
 "metadata": {
  "kernelspec": {
   "display_name": "Python 3",
   "language": "python",
   "name": "python3"
  },
  "language_info": {
   "codemirror_mode": {
    "name": "ipython",
    "version": 3
   },
   "file_extension": ".py",
   "mimetype": "text/x-python",
   "name": "python",
   "nbconvert_exporter": "python",
   "pygments_lexer": "ipython3",
   "version": "3.12.3"
  }
 },
 "nbformat": 4,
 "nbformat_minor": 2
}
